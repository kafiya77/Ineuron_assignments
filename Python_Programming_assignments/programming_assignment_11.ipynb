{
 "cells": [
  {
   "cell_type": "markdown",
   "id": "a18ad4c8",
   "metadata": {},
   "source": [
    "#### 1.Write a Python program to find words which are greater than given length k?"
   ]
  },
  {
   "cell_type": "code",
   "execution_count": 31,
   "id": "080f0f7a",
   "metadata": {},
   "outputs": [
    {
     "name": "stdout",
     "output_type": "stream",
     "text": [
      "5\n",
      "given length is 5\n",
      "smiling  because  beautiful  "
     ]
    }
   ],
   "source": [
    "k=int(input())\n",
    "\n",
    "\n",
    "text=\"Keep smiling because life is a beautiful thing\"\n",
    "text=text.split()\n",
    "\n",
    "for i in text:\n",
    "    if len(i)>k:\n",
    "        print(i,end=\"  \")"
   ]
  },
  {
   "cell_type": "markdown",
   "id": "68f55ba5",
   "metadata": {},
   "source": [
    "#### 2.Write a Python program for removing i-th character from a string?"
   ]
  },
  {
   "cell_type": "code",
   "execution_count": 37,
   "id": "beeadfe2",
   "metadata": {},
   "outputs": [
    {
     "name": "stdout",
     "output_type": "stream",
     "text": [
      "enter the string: program\n",
      "4\n",
      "string after removing the 4th character: progam\n"
     ]
    }
   ],
   "source": [
    "string=input(\"enter the string: \")\n",
    "\n",
    "ith_char=int(input()) \n",
    "\n",
    "a=string[:ith_char]\n",
    "b=string[ith_char+1:]\n",
    "string=a+b\n",
    "\n",
    "print(f\"string after removing the {ith_char}th character: {string}\")\n",
    "\n"
   ]
  },
  {
   "cell_type": "markdown",
   "id": "81502298",
   "metadata": {},
   "source": [
    "#### 3.Write a Python program to split and join a string?"
   ]
  },
  {
   "cell_type": "code",
   "execution_count": 40,
   "id": "d2b8875d",
   "metadata": {},
   "outputs": [
    {
     "name": "stdout",
     "output_type": "stream",
     "text": [
      "['HELLO', 'WORLD']\n"
     ]
    },
    {
     "data": {
      "text/plain": [
       "'HELLO WORLD'"
      ]
     },
     "execution_count": 40,
     "metadata": {},
     "output_type": "execute_result"
    }
   ],
   "source": [
    "A=\"HELLO WORLD\"\n",
    "K=A.split(\" \")\n",
    "print(K)\n",
    "\n",
    "\n",
    "\" \".join(K)"
   ]
  },
  {
   "cell_type": "markdown",
   "id": "286ab1b0",
   "metadata": {},
   "source": [
    "#### 4.Write a Python to check if a given string is binary string or not?"
   ]
  },
  {
   "cell_type": "code",
   "execution_count": 41,
   "id": "b94a70a3",
   "metadata": {},
   "outputs": [
    {
     "name": "stdout",
     "output_type": "stream",
     "text": [
      "STRING IS NOT BINARY\n"
     ]
    }
   ],
   "source": [
    "string = \"01010201010\"\n",
    "if(string.count('0')+string.count('1')==len(string)):\n",
    "    print(\"STRING IS BINARY\")\n",
    "else:\n",
    "    print(\"STRING IS NOT BINARY\")"
   ]
  },
  {
   "cell_type": "markdown",
   "id": "34840020",
   "metadata": {},
   "source": [
    "#### 5.Write a Python program to find uncommon words from two Strings?"
   ]
  },
  {
   "cell_type": "code",
   "execution_count": 42,
   "id": "415a7786",
   "metadata": {},
   "outputs": [
    {
     "name": "stdout",
     "output_type": "stream",
     "text": [
      "['HOW', 'ARE', 'YOU', 'I', 'AM', 'FINE']\n"
     ]
    }
   ],
   "source": [
    "A = \"HELLO HOW ARE YOU\"\n",
    "B = \"HELLO I AM FINE\"\n",
    "A=A.split()\n",
    "B=B.split()\n",
    "x=[]\n",
    "for i in A:\n",
    "    if i not in B:\n",
    "        x.append(i)\n",
    "for i in B:\n",
    "    if i not in A:\n",
    "        x.append(i)\n",
    "\n",
    "print(x)"
   ]
  },
  {
   "cell_type": "markdown",
   "id": "cd72e6e7",
   "metadata": {},
   "source": [
    "#### 6.Write a Python to find all duplicate characters in string?"
   ]
  },
  {
   "cell_type": "code",
   "execution_count": 44,
   "id": "f7b9bfa5",
   "metadata": {},
   "outputs": [
    {
     "name": "stdout",
     "output_type": "stream",
     "text": [
      "H E L O  \n"
     ]
    }
   ],
   "source": [
    "string=\"HELLO HOW ARE YOU\"\n",
    "x=[]\n",
    "for i in string:\n",
    "    if i not in x and string.count(i)>1:\n",
    "        x.append(i)\n",
    "print(\" \".join(x))"
   ]
  },
  {
   "cell_type": "markdown",
   "id": "228c0cf6",
   "metadata": {},
   "source": [
    "#### 7.Write a Python Program to check if a string contains any special character?"
   ]
  },
  {
   "cell_type": "code",
   "execution_count": 49,
   "id": "a03b0149",
   "metadata": {},
   "outputs": [
    {
     "name": "stdout",
     "output_type": "stream",
     "text": [
      "string contain special character\n"
     ]
    }
   ],
   "source": [
    "string=\"we @re late ^ow\"\n",
    "\n",
    "c=0\n",
    "s='[@_!#$%^&*()<>?/\\|}{~:\"]' \n",
    "for i in string:\n",
    "    if i in s:\n",
    "        c=c+1   \n",
    " \n",
    " \n",
    "if c:\n",
    "    print(\"string contain special character\")\n",
    "else:\n",
    "    print(\"string does not contain any special character\")\n",
    " "
   ]
  }
 ],
 "metadata": {
  "kernelspec": {
   "display_name": "Python 3 (ipykernel)",
   "language": "python",
   "name": "python3"
  },
  "language_info": {
   "codemirror_mode": {
    "name": "ipython",
    "version": 3
   },
   "file_extension": ".py",
   "mimetype": "text/x-python",
   "name": "python",
   "nbconvert_exporter": "python",
   "pygments_lexer": "ipython3",
   "version": "3.9.12"
  }
 },
 "nbformat": 4,
 "nbformat_minor": 5
}
