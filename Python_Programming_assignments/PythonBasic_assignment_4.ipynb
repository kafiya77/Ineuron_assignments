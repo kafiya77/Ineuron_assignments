{
 "cells": [
  {
   "cell_type": "markdown",
   "id": "f54cda69-6179-4ed2-80ec-7877a4e41a00",
   "metadata": {},
   "source": [
    "#### 1. What exactly is []?"
   ]
  },
  {
   "cell_type": "markdown",
   "id": "65db300e-8a82-4ec7-8649-6a001a6559eb",
   "metadata": {},
   "source": [
    "- [] is an empty list ."
   ]
  },
  {
   "cell_type": "markdown",
   "id": "f81e7b8b-e5b3-498f-87ca-6763b845ce22",
   "metadata": {},
   "source": [
    "#### 2. In a list of values stored in a variable called spam, how would you assign the value &#39;hello&#39; as thethird value? (Assume [2, 4, 6, 8, 10] are in spam.)"
   ]
  },
  {
   "cell_type": "code",
   "execution_count": 13,
   "id": "09dcd77b-6324-43bc-b014-0992b0841fea",
   "metadata": {},
   "outputs": [
    {
     "name": "stdout",
     "output_type": "stream",
     "text": [
      "[2, 4, 'hello', 6, 8, 10]\n"
     ]
    }
   ],
   "source": [
    "spam=[2,4,6,8,10]\n",
    "\n",
    "# to insert a value at thrid position \n",
    "\n",
    "spam.insert(2,\"hello\")\n",
    "print(spam)\n",
    "\n",
    "# and to replace third value by 'hello'\n",
    "# spam[2]=\"hello\""
   ]
  },
  {
   "cell_type": "markdown",
   "id": "222893e5-d5f3-4bc5-8d44-7f7fec769da3",
   "metadata": {},
   "source": [
    "Let&#39;s pretend the spam includes the list [&#39;a&#39;, &#39;b&#39;, &#39;c&#39;, &#39;d&#39;] for the next three queries."
   ]
  },
  {
   "cell_type": "markdown",
   "id": "967b4e9e-7fb9-463c-a750-c9381a25570f",
   "metadata": {},
   "source": [
    "#### 3. What is the value of spam[int(int('3'* 2) / 11)]?"
   ]
  },
  {
   "cell_type": "code",
   "execution_count": 15,
   "id": "a3045d1a-8499-4112-8197-fddae249fb2d",
   "metadata": {},
   "outputs": [
    {
     "data": {
      "text/plain": [
       "'d'"
      ]
     },
     "execution_count": 15,
     "metadata": {},
     "output_type": "execute_result"
    }
   ],
   "source": [
    "spam=[\"a\",\"b\",\"c\",\"d\"]\n",
    "\n",
    "spam[int(int('3'*2)/11)]"
   ]
  },
  {
   "cell_type": "markdown",
   "id": "366c5d4b-13a2-452e-91cb-54661c9059bf",
   "metadata": {},
   "source": [
    "#### 4. What is the value of spam[-1]?"
   ]
  },
  {
   "cell_type": "code",
   "execution_count": 16,
   "id": "4f1f2929-4196-4234-acf0-590d0ea422d9",
   "metadata": {},
   "outputs": [
    {
     "data": {
      "text/plain": [
       "'d'"
      ]
     },
     "execution_count": 16,
     "metadata": {},
     "output_type": "execute_result"
    }
   ],
   "source": [
    "spam[-1]"
   ]
  },
  {
   "cell_type": "markdown",
   "id": "21bb0081-1a9a-46a7-adc8-1368f54f85ee",
   "metadata": {},
   "source": [
    "#### 5. What is the value of spam[:2]?"
   ]
  },
  {
   "cell_type": "code",
   "execution_count": 17,
   "id": "1eb28876-1408-4e67-88a8-ac4508bc228a",
   "metadata": {},
   "outputs": [
    {
     "data": {
      "text/plain": [
       "['a', 'b']"
      ]
     },
     "execution_count": 17,
     "metadata": {},
     "output_type": "execute_result"
    }
   ],
   "source": [
    "spam[:2]"
   ]
  },
  {
   "cell_type": "markdown",
   "id": "719fceee-d295-4355-bb57-1e132bcb06cf",
   "metadata": {},
   "source": [
    "Let&#39;s pretend bacon has the list [3.14, &#39;cat,&#39; 11, &#39;cat,&#39; True] for the next three questions."
   ]
  },
  {
   "cell_type": "code",
   "execution_count": 19,
   "id": "f570d0d6-b3ea-4f42-b90f-8c053f5ae618",
   "metadata": {},
   "outputs": [],
   "source": [
    "bacon = [3.14, 'cat', 11, 'cat', True]"
   ]
  },
  {
   "cell_type": "markdown",
   "id": "2472c7d1-ed23-479c-86b7-8e3e294b3c31",
   "metadata": {},
   "source": [
    "#### 6. What is the value of bacon.index(&#39;cat&#39;)?"
   ]
  },
  {
   "cell_type": "code",
   "execution_count": 20,
   "id": "2b187ed3-f3e1-4ae6-8985-5a738e4af434",
   "metadata": {},
   "outputs": [
    {
     "data": {
      "text/plain": [
       "1"
      ]
     },
     "execution_count": 20,
     "metadata": {},
     "output_type": "execute_result"
    }
   ],
   "source": [
    "bacon.index(\"cat\")"
   ]
  },
  {
   "cell_type": "markdown",
   "id": "16faa1a1-81bf-406e-9624-465b6a60ded6",
   "metadata": {},
   "source": [
    "7. How does bacon.append(99) change the look of the list value in bacon?"
   ]
  },
  {
   "cell_type": "code",
   "execution_count": 21,
   "id": "d525c4f4-2ee1-4f86-af2e-2f7999711fa2",
   "metadata": {},
   "outputs": [],
   "source": [
    "bacon.append(99)"
   ]
  },
  {
   "cell_type": "code",
   "execution_count": 22,
   "id": "a0513a61-bc8b-440e-8e1e-034a00262ca9",
   "metadata": {},
   "outputs": [
    {
     "data": {
      "text/plain": [
       "[3.14, 'cat', 11, 'cat', True, 99]"
      ]
     },
     "execution_count": 22,
     "metadata": {},
     "output_type": "execute_result"
    }
   ],
   "source": [
    "bacon"
   ]
  },
  {
   "cell_type": "markdown",
   "id": "9fb03fb7-c2e1-4d5e-b1e3-4b75ed6a310c",
   "metadata": {},
   "source": [
    "#### 8. How does bacon.remove(&#39;cat&#39;) change the look of the list in bacon?"
   ]
  },
  {
   "cell_type": "code",
   "execution_count": 25,
   "id": "645cd83b-57d8-4c34-a37f-2ac24e17559e",
   "metadata": {},
   "outputs": [],
   "source": [
    "bacon.remove(\"cat\")   # it removes first occurence specified element "
   ]
  },
  {
   "cell_type": "code",
   "execution_count": 24,
   "id": "db7e23a0-65f5-4232-9afb-80f4effaadb3",
   "metadata": {},
   "outputs": [
    {
     "data": {
      "text/plain": [
       "[3.14, 11, 'cat', True, 99]"
      ]
     },
     "execution_count": 24,
     "metadata": {},
     "output_type": "execute_result"
    }
   ],
   "source": [
    "bacon"
   ]
  },
  {
   "cell_type": "markdown",
   "id": "d084fc15-8642-433c-a2e6-b67b518516ee",
   "metadata": {},
   "source": [
    "#### 9. What are the list concatenation and list replication operators?"
   ]
  },
  {
   "cell_type": "markdown",
   "id": "4cf631e3-e746-4f53-8215-4de3eaa3e8ff",
   "metadata": {},
   "source": [
    "suppose we have a list l=[1,2,3,\"a\",\"b\",\"c\"]"
   ]
  },
  {
   "cell_type": "code",
   "execution_count": 27,
   "id": "86c275f7-2b6f-4df4-8e28-23cc1930b544",
   "metadata": {},
   "outputs": [
    {
     "data": {
      "text/plain": [
       "[1, 2, 3, 'a', 'b', 'c', 1, 2, 3]"
      ]
     },
     "execution_count": 27,
     "metadata": {},
     "output_type": "execute_result"
    }
   ],
   "source": [
    "# for list concatenation operation we use +  \n",
    "#eg:\n",
    "l=[1,2,3,\"a\",\"b\",\"c\"]\n",
    "L=[1,2,3]\n",
    "\n",
    "l+L\n"
   ]
  },
  {
   "cell_type": "code",
   "execution_count": 28,
   "id": "d1e2e341-f2d0-4ba2-a25f-414788d3a8f3",
   "metadata": {},
   "outputs": [
    {
     "data": {
      "text/plain": [
       "[1, 2, 3, 'a', 'b', 'c', 1, 2, 3, 'a', 'b', 'c']"
      ]
     },
     "execution_count": 28,
     "metadata": {},
     "output_type": "execute_result"
    }
   ],
   "source": [
    "# and for list replication we use * \n",
    "\n",
    "l*2"
   ]
  },
  {
   "cell_type": "markdown",
   "id": "3a01b06a-193e-45c7-a8b2-a87a74c88335",
   "metadata": {},
   "source": [
    "#### 10. What is difference between the list methods append() and insert()?"
   ]
  },
  {
   "cell_type": "markdown",
   "id": "1603b998-adab-45ac-a183-8d3e509dc2cb",
   "metadata": {},
   "source": [
    "While append() will add values only to the end of a list, insert() can add them anywhere in the list using a index value."
   ]
  },
  {
   "cell_type": "markdown",
   "id": "248ffdd1-10ed-4298-8a5a-2272988bd787",
   "metadata": {},
   "source": [
    "#### 11. What are the two methods for removing items from a list?"
   ]
  },
  {
   "cell_type": "markdown",
   "id": "18a3d9dc-232f-4971-a043-c0cc1423f74d",
   "metadata": {},
   "source": [
    "The del statement and the remove() method are two ways to remove values from a list"
   ]
  },
  {
   "cell_type": "markdown",
   "id": "e8c3ea7d-077d-42b8-8a49-211d51f72bf2",
   "metadata": {},
   "source": [
    "#### 12. Describe how list values and string values are identical."
   ]
  },
  {
   "cell_type": "markdown",
   "id": "b1fa7109-d0b4-4205-826a-ee1bb8093c51",
   "metadata": {},
   "source": [
    " Both lists and strings can be passed to len() function, have indexes and slices, be used in for loops, be concatenated or replicated, and be used with the in and not in operators."
   ]
  },
  {
   "cell_type": "markdown",
   "id": "088f98cf-fbba-4a33-8f9f-180322bc206c",
   "metadata": {},
   "source": [
    "#### 13. What&#39;s the difference between tuples and lists?"
   ]
  },
  {
   "cell_type": "markdown",
   "id": "44b94052-63a7-414d-a3d5-89e572128058",
   "metadata": {},
   "source": [
    "In Python, lists and tuples are both sequence types, which means that they are collections of values that can be iterated over. \n",
    "\n",
    "- Lists are mutable, which means that their values can be changed after they are created. Tuples are immutable, which means    that their values cannot be changed once they are created.\n",
    "\n",
    "- Lists are defined using square brackets ([]), while tuples are defined using parentheses (()).\n",
    "\n",
    "- Lists have a number of built-in methods, such as append(), insert(), and remove(), that can be used to modify the list. Tuples do not have these methods, since they are immutable."
   ]
  },
  {
   "cell_type": "markdown",
   "id": "ba9bd00f-3a7a-4ce3-a3fa-8c21f57b9f12",
   "metadata": {},
   "source": [
    "#### 14. How do you type a tuple value that only contains the integer 42?"
   ]
  },
  {
   "cell_type": "code",
   "execution_count": 44,
   "id": "f52becc5-b8ce-45af-9469-5aba631f1341",
   "metadata": {},
   "outputs": [
    {
     "data": {
      "text/plain": [
       "tuple"
      ]
     },
     "execution_count": 44,
     "metadata": {},
     "output_type": "execute_result"
    }
   ],
   "source": [
    "t=(42,)\n",
    "type(t)"
   ]
  },
  {
   "cell_type": "markdown",
   "id": "f6625bd2-d8c8-4596-87e0-918be6419ec7",
   "metadata": {},
   "source": [
    "#### 15. How do you get a list value&#39;s tuple form? How do you get a tuple value&#39;s list form?"
   ]
  },
  {
   "cell_type": "markdown",
   "id": "0b4deceb-c8c5-4c73-a93e-c735de287c53",
   "metadata": {},
   "source": [
    "The tuple() and list() functions, respectively are used to convert a list to tuple and tuple to list"
   ]
  },
  {
   "cell_type": "markdown",
   "id": "1b2bfbdc-6a1c-489a-8436-9c9dd0254be8",
   "metadata": {},
   "source": [
    "#### 16. Variables that &quot;contain&quot; list values are not necessarily lists themselves. Instead, what do they contain?"
   ]
  },
  {
   "cell_type": "markdown",
   "id": "c19e4b88-e8d2-43e6-be2a-025022477718",
   "metadata": {},
   "source": [
    "They contain references to list values."
   ]
  },
  {
   "cell_type": "markdown",
   "id": "35c15b43-aa24-404e-bcd7-7da711423ff2",
   "metadata": {},
   "source": [
    "#### 17. How do you distinguish between copy.copy() and copy.deepcopy()?"
   ]
  },
  {
   "cell_type": "markdown",
   "id": "4ddc3051-be82-47df-ab1c-0e3370ef52d3",
   "metadata": {},
   "source": [
    "The copy.copy() function will do a shallow copy of a list, while the copy.deepcopy() function will do a deep copy of a list. That is, only copy.deepcopy() will duplicate any lists inside the list."
   ]
  }
 ],
 "metadata": {
  "kernelspec": {
   "display_name": "Python 3 (ipykernel)",
   "language": "python",
   "name": "python3"
  },
  "language_info": {
   "codemirror_mode": {
    "name": "ipython",
    "version": 3
   },
   "file_extension": ".py",
   "mimetype": "text/x-python",
   "name": "python",
   "nbconvert_exporter": "python",
   "pygments_lexer": "ipython3",
   "version": "3.9.12"
  }
 },
 "nbformat": 4,
 "nbformat_minor": 5
}
