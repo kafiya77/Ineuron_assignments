{
 "cells": [
  {
   "cell_type": "markdown",
   "id": "dc0d63e0",
   "metadata": {},
   "source": [
    "#### 1.Write a Python Program to find sum of array?"
   ]
  },
  {
   "cell_type": "code",
   "execution_count": 4,
   "id": "5baabde3",
   "metadata": {},
   "outputs": [
    {
     "name": "stdout",
     "output_type": "stream",
     "text": [
      "sum of array is:15\n"
     ]
    }
   ],
   "source": [
    "arr=[1,2,3,4,5]\n",
    "\n",
    "k=0\n",
    "for i in arr:\n",
    "    k=k+i\n",
    "    \n",
    "print(f\"sum of array is: {k}\")    "
   ]
  },
  {
   "cell_type": "markdown",
   "id": "7f3bb5b0",
   "metadata": {},
   "source": [
    "#### 2.Write a Python Program to find largest element in an array?"
   ]
  },
  {
   "cell_type": "code",
   "execution_count": 42,
   "id": "2b9f82b0",
   "metadata": {},
   "outputs": [
    {
     "name": "stdout",
     "output_type": "stream",
     "text": [
      "the largest element in an array is: 70\n",
      "70\n"
     ]
    }
   ],
   "source": [
    "arr=[20,70,40,50,60]\n",
    "\n",
    "#intialization\n",
    "k=arr[0]\n",
    "for i in arr:\n",
    "    if k<i:\n",
    "        k=i\n",
    "print(f\"the largest element in an array is: {k}\")   \n",
    "\n",
    "##another method\n",
    "arr.sort()\n",
    "largest_element=arr[-1]\n",
    "print(largest_element)\n",
    "    "
   ]
  },
  {
   "cell_type": "markdown",
   "id": "5037ccfd",
   "metadata": {},
   "source": [
    "#### 3.Write a Python Program for array rotation?"
   ]
  },
  {
   "cell_type": "code",
   "execution_count": 52,
   "id": "7c219d6a",
   "metadata": {},
   "outputs": [
    {
     "name": "stdout",
     "output_type": "stream",
     "text": [
      "2\n",
      "array after rotation is: [4, 5, 6, 7, 2, 5]\n"
     ]
    }
   ],
   "source": [
    "a=[2,3,4,5,6,7]\n",
    "\n",
    "# The user will give an input d by which the elements of the array will be rotated.\n",
    "d=int(input())\n",
    "temp = []\n",
    "n=len(a)\n",
    "for i in range(d,n):\n",
    "    temp.append(a[i])\n",
    "i = 0\n",
    "for i in range (0,d):\n",
    "    temp.append(a[i])\n",
    "    a=temp.copy()\n",
    "    \n",
    "print(f\"array after rotation is: {a}\")"
   ]
  },
  {
   "cell_type": "markdown",
   "id": "e59e418f",
   "metadata": {},
   "source": [
    "#### 4.Write a Python Program to Split the array and add the first part to the end?"
   ]
  },
  {
   "cell_type": "code",
   "execution_count": 47,
   "id": "91471f29",
   "metadata": {},
   "outputs": [
    {
     "name": "stdout",
     "output_type": "stream",
     "text": [
      "2\n",
      "[30, 40, 50, 60, 10, 20]\n"
     ]
    }
   ],
   "source": [
    "arr=[10,20,30,40,50,60]\n",
    "\n",
    "# user input from where to split,\"index number\"\n",
    "split_index=int(input())\n",
    "\n",
    "x=arr[:split_index]\n",
    "y=arr[split_index:]\n",
    "arr1=y+x\n",
    "print(arr1)"
   ]
  },
  {
   "cell_type": "markdown",
   "id": "50743939",
   "metadata": {},
   "source": [
    "#### 5.Write a Python Program to check if given array is Monotonic?"
   ]
  },
  {
   "cell_type": "code",
   "execution_count": 46,
   "id": "09dcbe17",
   "metadata": {},
   "outputs": [
    {
     "name": "stdout",
     "output_type": "stream",
     "text": [
      "Given array is monotonic\n"
     ]
    }
   ],
   "source": [
    "# monotonic implies either increasing or decreasing\n",
    "arr=[10,20,30,40,50]\n",
    "\n",
    "x=[]\n",
    "y=[]\n",
    "x.extend(arr)\n",
    "y.extend(arr)\n",
    "x.sort()\n",
    "y.sort(reverse=True)\n",
    "if arr==x or arr==y:\n",
    "    print(\"Given array is monotonic\")\n",
    "else:\n",
    "    print(\"Given array is not monotonic\")"
   ]
  }
 ],
 "metadata": {
  "kernelspec": {
   "display_name": "Python 3 (ipykernel)",
   "language": "python",
   "name": "python3"
  },
  "language_info": {
   "codemirror_mode": {
    "name": "ipython",
    "version": 3
   },
   "file_extension": ".py",
   "mimetype": "text/x-python",
   "name": "python",
   "nbconvert_exporter": "python",
   "pygments_lexer": "ipython3",
   "version": "3.9.12"
  }
 },
 "nbformat": 4,
 "nbformat_minor": 5
}
