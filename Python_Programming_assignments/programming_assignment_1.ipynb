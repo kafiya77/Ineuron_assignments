{
 "cells": [
  {
   "cell_type": "markdown",
   "id": "e74896e8",
   "metadata": {},
   "source": [
    "##### 1. Write a Python program to print \"Hello Python\" ?"
   ]
  },
  {
   "cell_type": "code",
   "execution_count": 1,
   "id": "8ee127f9",
   "metadata": {},
   "outputs": [
    {
     "name": "stdout",
     "output_type": "stream",
     "text": [
      "Hello Python\n"
     ]
    }
   ],
   "source": [
    "print(\"Hello Python\")"
   ]
  },
  {
   "cell_type": "markdown",
   "id": "a17eb95a",
   "metadata": {},
   "source": [
    "##### 2.Write a Python program to do arithmetical operations addition and division ?"
   ]
  },
  {
   "cell_type": "code",
   "execution_count": 4,
   "id": "20e8442c",
   "metadata": {},
   "outputs": [
    {
     "name": "stdout",
     "output_type": "stream",
     "text": [
      "40\n",
      "45\n",
      "addition of given two numbers is 85\n"
     ]
    }
   ],
   "source": [
    "# Addition\n",
    "a=int(input())\n",
    "b=int(input())\n",
    "add=a+b\n",
    "print(f\"addition of given two numbers is {add}\") #output"
   ]
  },
  {
   "cell_type": "code",
   "execution_count": 5,
   "id": "719fd28f",
   "metadata": {},
   "outputs": [
    {
     "name": "stdout",
     "output_type": "stream",
     "text": [
      "10\n",
      "5\n",
      "result of Division operation:2.0\n"
     ]
    }
   ],
   "source": [
    "# Division\n",
    "a=int(input())\n",
    "b=int(input())\n",
    "div=a/b\n",
    "print(f\"result of Division operation: {div}\")"
   ]
  },
  {
   "cell_type": "code",
   "execution_count": 9,
   "id": "a86402f3",
   "metadata": {},
   "outputs": [
    {
     "name": "stdout",
     "output_type": "stream",
     "text": [
      "10\n",
      "20\n",
      "result of Integer Division: 0\n"
     ]
    }
   ],
   "source": [
    "## Integer Division\n",
    "a=int(input())\n",
    "b=int(input())\n",
    "int_div=a // b\n",
    "print(f\"result of Integer Division: {int_div}\")\n"
   ]
  },
  {
   "cell_type": "markdown",
   "id": "3e54cf32",
   "metadata": {},
   "source": [
    "##### 3. Write a Python program to find the area of a triangle?"
   ]
  },
  {
   "cell_type": "code",
   "execution_count": 11,
   "id": "56f21569",
   "metadata": {},
   "outputs": [
    {
     "name": "stdout",
     "output_type": "stream",
     "text": [
      "enter the base value: 34\n",
      "enter the height value: 67\n",
      "The area of the triangle with base equal to 34.0 and height equal to 67.0 is 1139.0\n"
     ]
    }
   ],
   "source": [
    "base=float(input(\"enter the base value: \"))\n",
    "\n",
    "height=float(input(\"enter the height value: \"))\n",
    "\n",
    "area_of_triangle=0.5*base*height\n",
    "\n",
    "print(f\"The Area of the Triangle with base equal to {base} and height equal to {height} is {area_of_triangle}\")"
   ]
  },
  {
   "cell_type": "markdown",
   "id": "42e11aa9",
   "metadata": {},
   "source": [
    "###### 4. Write a Python program to swap two variables?"
   ]
  },
  {
   "cell_type": "code",
   "execution_count": 2,
   "id": "07741960",
   "metadata": {},
   "outputs": [
    {
     "name": "stdout",
     "output_type": "stream",
     "text": [
      "x= 50\n",
      "y= 100\n",
      "x= 100\n",
      "y= 50\n"
     ]
    }
   ],
   "source": [
    "## Before swapping\n",
    "x=input(\"x= \")\n",
    "y=input(\"y= \")\n",
    "z=x\n",
    "x=y\n",
    "y=z\n",
    "## After swapping\n",
    "print(f\"x= {x}\")\n",
    "print(f\"y= {y}\")"
   ]
  },
  {
   "cell_type": "markdown",
   "id": "f2ecca3b",
   "metadata": {},
   "source": [
    "##### 5. Write a Python program to generate a random number?"
   ]
  },
  {
   "cell_type": "code",
   "execution_count": 16,
   "id": "95e53158",
   "metadata": {},
   "outputs": [
    {
     "name": "stdout",
     "output_type": "stream",
     "text": [
      "random number between the range(1, 100) is 97\n"
     ]
    }
   ],
   "source": [
    "import random\n",
    "random_number=random.randint(1,10)\n",
    "print(f\"random number between the range{(1,100)} is {random_number}\")"
   ]
  }
 ],
 "metadata": {
  "kernelspec": {
   "display_name": "Python 3 (ipykernel)",
   "language": "python",
   "name": "python3"
  },
  "language_info": {
   "codemirror_mode": {
    "name": "ipython",
    "version": 3
   },
   "file_extension": ".py",
   "mimetype": "text/x-python",
   "name": "python",
   "nbconvert_exporter": "python",
   "pygments_lexer": "ipython3",
   "version": "3.9.12"
  }
 },
 "nbformat": 4,
 "nbformat_minor": 5
}
