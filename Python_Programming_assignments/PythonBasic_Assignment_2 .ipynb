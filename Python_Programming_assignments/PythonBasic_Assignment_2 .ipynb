{
 "cells": [
  {
   "cell_type": "markdown",
   "metadata": {
    "id": "qnKHRcgWNCvg"
   },
   "source": [
    "#### 1.What are the two values of the Boolean data type? How do you write them?\n",
    "\n",
    "Ans:- A variable of the primitive data type boolean can have two values: **true** and **false** (Boolean literals). We can write them as\n",
    "\n",
    "\n",
    "1.    a = true\n",
    "2.    b = false\n",
    "\n"
   ]
  },
  {
   "cell_type": "markdown",
   "metadata": {
    "id": "hSYwhtwbNWL_"
   },
   "source": [
    "#### 2. What are the three different types of Boolean operators?\n",
    "\n",
    "Ans:- \n",
    "\n",
    "1.   AND\n",
    "2.   OR\n",
    "3.   NOT\n",
    "\n"
   ]
  },
  {
   "cell_type": "markdown",
   "metadata": {
    "id": "IXit024nOQFC"
   },
   "source": [
    "#### 3. Make a list of each Boolean operators truth tables (i.e. every possible combination of Boolean values for the operator and what it evaluate ).\n",
    "\n",
    "Ans:-\n",
    "\n",
    "```\n",
    "\n",
    "   AND                      OR                     NOT \n",
    "A\tB\tA AND B            A B   A OR B           A   NOT A\n",
    "\n",
    "0\t0\t0                  0 0    0               0   1\n",
    "0\t1\t0                  0 1    1               1   0\n",
    "1\t0\t0                  1 0    1\n",
    "1\t1\t1                  1 1    1\n",
    " \n",
    "```\n",
    "\n",
    "\n",
    "\n",
    "\n",
    "\n"
   ]
  },
  {
   "cell_type": "markdown",
   "metadata": {
    "id": "nMFh5yjzQHW1"
   },
   "source": [
    "#### 4. What are the values of the following expressions?\n",
    "- (5 > 4) and (3 == 5)\n",
    "- not (5 > 4)\n",
    "- (5 > 4) or (3 == 5)\n",
    "- not ((5 > 4) or (3 == 5))\n",
    "- (True and True) and (True == False)\n",
    "- (not False) or (not True)"
   ]
  },
  {
   "cell_type": "code",
   "execution_count": 1,
   "metadata": {
    "colab": {
     "base_uri": "https://localhost:8080/"
    },
    "executionInfo": {
     "elapsed": 6,
     "status": "ok",
     "timestamp": 1657979243311,
     "user": {
      "displayName": "Satish Kumar Patri",
      "userId": "02473800090152985625"
     },
     "user_tz": -330
    },
    "id": "huGn8iDiQn1S",
    "outputId": "a9ebe28d-8307-4eb2-eb0a-227a52b7c48e"
   },
   "outputs": [
    {
     "name": "stdout",
     "output_type": "stream",
     "text": [
      "False\n",
      "False\n",
      "True\n",
      "True\n",
      "False\n",
      "True\n"
     ]
    }
   ],
   "source": [
    "print((5 > 4) and (3 == 5))\n",
    "print(not (5 > 4))\n",
    "print((5 > 4) or (3 == 5))\n",
    "print(((5 > 4) or (3 == 5)))\n",
    "print((True and True) and (True == False))\n",
    "print((not False) or (not True))"
   ]
  },
  {
   "cell_type": "markdown",
   "metadata": {
    "id": "-yUrWG8pRJ91"
   },
   "source": [
    "#### 5. What are the six comparison operators?\n",
    "\n",
    "Ans:- Python have 6 comparison operators. \n",
    "\n",
    "- less than (<), \n",
    "- less than or equal to (<=), \n",
    "- greater than (>), \n",
    "- greater than or equal to (>=), \n",
    "- equal to (==),\n",
    "- not equal to (!=)"
   ]
  },
  {
   "cell_type": "markdown",
   "metadata": {
    "id": "vlnACkIeRiY4",
    "tags": []
   },
   "source": [
    "#### 6. How do you tell the difference between the equal to and assignment operators? Describe a condition and when you would use one.\n",
    "\n",
    "Ans: - \n",
    "\n",
    "- The **“=”** is an assignment operator is used to assign the value on the right to the variable on the left. \n",
    "- The **'=='** operator checks whether the two given operands are equal or not. If so, it returns true. Otherwise it returns false."
   ]
  },
  {
   "cell_type": "code",
   "execution_count": 1,
   "metadata": {},
   "outputs": [
    {
     "data": {
      "text/plain": [
       "True"
      ]
     },
     "execution_count": 1,
     "metadata": {},
     "output_type": "execute_result"
    }
   ],
   "source": [
    "# Eg:\n",
    "\n",
    "name =\"kafiya\"  # = is used to store a value \n",
    "\n",
    "name==\"kafiya\"   # == is used to check a both values are equal or not and it give a boolean value"
   ]
  },
  {
   "cell_type": "markdown",
   "metadata": {
    "id": "rRZ9f-52T3tX"
   },
   "source": [
    "#### 7. Identify the three block in the code."
   ]
  },
  {
   "cell_type": "code",
   "execution_count": 2,
   "metadata": {
    "colab": {
     "base_uri": "https://localhost:8080/"
    },
    "executionInfo": {
     "elapsed": 397,
     "status": "ok",
     "timestamp": 1657979880163,
     "user": {
      "displayName": "Satish Kumar Patri",
      "userId": "02473800090152985625"
     },
     "user_tz": -330
    },
    "id": "rcDmOEm8SPeJ",
    "outputId": "d9682147-be4e-4212-f453-51d909a15f7e"
   },
   "outputs": [
    {
     "name": "stdout",
     "output_type": "stream",
     "text": [
      "ham\n",
      "spam\n",
      "spam\n"
     ]
    }
   ],
   "source": [
    "spam = 0 \n",
    "if spam == 10: \n",
    "    print('eggs') # Block 1\n",
    "if spam > 5: \n",
    "    print('bacon') # Block 2\n",
    "else: \n",
    "    print('ham') # Block 3\n",
    "    print('spam') \n",
    "    print('spam')"
   ]
  },
  {
   "cell_type": "markdown",
   "metadata": {
    "id": "DLWHhCcDUog4"
   },
   "source": [
    "#### 8. Write code that prints Hello if 1 is stored in spam, prints Howdy if 2 is stored in spam, and prints Greetings! if anything else is stored in spam."
   ]
  },
  {
   "cell_type": "code",
   "execution_count": 3,
   "metadata": {
    "colab": {
     "base_uri": "https://localhost:8080/"
    },
    "executionInfo": {
     "elapsed": 643,
     "status": "ok",
     "timestamp": 1657980332993,
     "user": {
      "displayName": "Satish Kumar Patri",
      "userId": "02473800090152985625"
     },
     "user_tz": -330
    },
    "id": "vXyCbQ0HUsgq",
    "outputId": "c48b377d-a51d-4807-e8ed-441d7c212d78"
   },
   "outputs": [
    {
     "name": "stdout",
     "output_type": "stream",
     "text": [
      "Greetings!\n"
     ]
    }
   ],
   "source": [
    "if spam == 1:\n",
    "    print('Hello')\n",
    "if spam == 2:\n",
    "    print(\"Howdy\")\n",
    "else:\n",
    "    print('Greetings!')"
   ]
  },
  {
   "cell_type": "markdown",
   "metadata": {
    "id": "FLMGc5BBVLM0"
   },
   "source": [
    "#### 9.If your programme is stuck in an endless loop, what keys you’ll press?\n",
    "\n",
    "Ans: - Ctrl + C"
   ]
  },
  {
   "cell_type": "markdown",
   "metadata": {
    "id": "9zXBGEksVYl2"
   },
   "source": [
    "#### 10. How can you tell the difference between break and continue?\n",
    "\n",
    "Ans: - The break statement will move the execution outside the loop if break condtion is satisfied. whereas the continue statement will move the execution to the start of the loop"
   ]
  },
  {
   "cell_type": "code",
   "execution_count": 4,
   "metadata": {},
   "outputs": [
    {
     "name": "stdout",
     "output_type": "stream",
     "text": [
      "0\n",
      "1\n",
      "2\n",
      "3\n",
      "4\n",
      "5\n",
      "6\n",
      "***************\n",
      "0\n",
      "1\n",
      "2\n",
      "3\n",
      "4\n",
      "5\n",
      "6\n",
      "8\n",
      "9\n"
     ]
    }
   ],
   "source": [
    "for i in range(10):\n",
    "    if i==7:\n",
    "        break\n",
    "    else:\n",
    "        print(i)\n",
    "print(\"***************\")     \n",
    "# AND \n",
    "\n",
    "for i in range(10):\n",
    "    if i==7:\n",
    "        continue\n",
    "    else:\n",
    "        print(i)"
   ]
  },
  {
   "cell_type": "markdown",
   "metadata": {
    "id": "ZSP5osiSV9GO"
   },
   "source": [
    "#11.  In a for loop, what is the difference between range(10), range(0, 10), and range(0, 10, 1)?\n",
    "\n",
    "Ans:-\n",
    "\n",
    "- range(10) = It will generate a sequence of integers starting from 0 to stop -1\n",
    "- range(0,10) = It will generate integers starting from the start number to stop -1.\n",
    "- range(0,10,1) = It will return a sequence of numbers, starting from the start number, increments by step number, and stops before a stop number."
   ]
  },
  {
   "cell_type": "markdown",
   "metadata": {
    "id": "13u2F0C_Xczw"
   },
   "source": [
    "#### 12. Write a short program that prints the numbers 1 to 10 using a for loop. Then write an equivalent program that prints the numbers 1 to 10 using a while loop."
   ]
  },
  {
   "cell_type": "code",
   "execution_count": 7,
   "metadata": {
    "colab": {
     "base_uri": "https://localhost:8080/"
    },
    "executionInfo": {
     "elapsed": 426,
     "status": "ok",
     "timestamp": 1657981023941,
     "user": {
      "displayName": "Satish Kumar Patri",
      "userId": "02473800090152985625"
     },
     "user_tz": -330
    },
    "id": "Ny2ITjRbXlaB",
    "outputId": "e355c109-72fa-45ec-c2ff-4d1dc10df67d"
   },
   "outputs": [
    {
     "name": "stdout",
     "output_type": "stream",
     "text": [
      "1\n",
      "2\n",
      "3\n",
      "4\n",
      "5\n",
      "6\n",
      "7\n",
      "8\n",
      "9\n"
     ]
    }
   ],
   "source": [
    "for i in range(1,10):\n",
    "    print(i)"
   ]
  },
  {
   "cell_type": "code",
   "execution_count": 6,
   "metadata": {
    "colab": {
     "base_uri": "https://localhost:8080/"
    },
    "executionInfo": {
     "elapsed": 456,
     "status": "ok",
     "timestamp": 1657981132206,
     "user": {
      "displayName": "Satish Kumar Patri",
      "userId": "02473800090152985625"
     },
     "user_tz": -330
    },
    "id": "VFaXxtg5X03s",
    "outputId": "d3f93fd7-7053-4a52-e784-cc9a3402eb56"
   },
   "outputs": [
    {
     "name": "stdout",
     "output_type": "stream",
     "text": [
      "1\n",
      "2\n",
      "3\n",
      "4\n",
      "5\n",
      "6\n",
      "7\n",
      "8\n",
      "9\n"
     ]
    }
   ],
   "source": [
    "i = 1\n",
    "while i < 10:\n",
    "    print(i)\n",
    "    i= i + 1"
   ]
  },
  {
   "cell_type": "markdown",
   "metadata": {
    "id": "ZCu1-IdlYKv3"
   },
   "source": [
    "#### 13. If you had a function named bacon() inside a module named spam, how would you call it after importing spam?\n",
    "\n",
    "Ans: -\n",
    "\n",
    "This function can be called with \n",
    "```\n",
    "spam.bacon()\n",
    "```\n",
    "\n"
   ]
  },
  {
   "cell_type": "code",
   "execution_count": null,
   "metadata": {},
   "outputs": [],
   "source": []
  }
 ],
 "metadata": {
  "colab": {
   "authorship_tag": "ABX9TyMjnAxjhz0HigXc5KbAZhUo",
   "name": "iNeuron_Assignment_2.ipynb",
   "provenance": []
  },
  "kernelspec": {
   "display_name": "Python 3 (ipykernel)",
   "language": "python",
   "name": "python3"
  },
  "language_info": {
   "codemirror_mode": {
    "name": "ipython",
    "version": 3
   },
   "file_extension": ".py",
   "mimetype": "text/x-python",
   "name": "python",
   "nbconvert_exporter": "python",
   "pygments_lexer": "ipython3",
   "version": "3.9.12"
  }
 },
 "nbformat": 4,
 "nbformat_minor": 4
}
