{
 "cells": [
  {
   "cell_type": "markdown",
   "id": "02f652b2-e0bf-4cd4-832a-46b2f71f2a3d",
   "metadata": {},
   "source": [
    "####  1. Why are functions advantageous to have in your programs?"
   ]
  },
  {
   "cell_type": "markdown",
   "id": "e402d46b-26f6-4e39-b267-9dab35c3547e",
   "metadata": {},
   "source": [
    "- Functions allow you to reuse code blocks in multiple places in your program, which can save you a lot of time and effort. \n",
    "\n",
    "-  Functions can improve the efficiency of your program by allowing you to reuse code blocks and avoid repeating the same operations multiple times. "
   ]
  },
  {
   "cell_type": "markdown",
   "id": "91fd033a-1496-40fc-9a96-c631d40e1eea",
   "metadata": {},
   "source": [
    "#### 2. When does the code in a function run: when it&#39;s specified or when it&#39;s called?"
   ]
  },
  {
   "cell_type": "markdown",
   "id": "bad409b2-a7be-4448-9834-8fb3e53555d0",
   "metadata": {},
   "source": [
    "The code in a function executes when the function is called and  not when the function is specified.\n",
    " and we call a function like eg : function()"
   ]
  },
  {
   "cell_type": "markdown",
   "id": "327377b3-16d0-4162-8e83-4940f2fae633",
   "metadata": {},
   "source": [
    "#### 3. What statement creates a function?"
   ]
  },
  {
   "cell_type": "markdown",
   "id": "9959c43b-1bf5-46cd-a7f3-e5981dda1e45",
   "metadata": {},
   "source": [
    "- the **def** keyword to create a function "
   ]
  },
  {
   "cell_type": "markdown",
   "id": "55de61f7-43eb-4b8d-9123-722d37048176",
   "metadata": {},
   "source": [
    "####  4. What is the difference between a function and a function call?"
   ]
  },
  {
   "cell_type": "markdown",
   "id": "b2ee1ec7-b33b-44ec-86d1-e4e9fa11648f",
   "metadata": {},
   "source": [
    "A function is procedure to achieve a particular result. while function call is using this function to achive that task using a function to do a particular task any point in program is called as function call."
   ]
  },
  {
   "cell_type": "markdown",
   "id": "97d9eeea-94a7-40b4-986f-6c3894459e72",
   "metadata": {},
   "source": [
    "#### 5. How many global scopes are there in a Python program? How many local scopes?"
   ]
  },
  {
   "cell_type": "markdown",
   "id": "0b31b4d6-0f37-4079-b372-6b9afcd809b8",
   "metadata": {},
   "source": [
    "There is one global scope and  there can be many local scopes in a Python program, and local scope is created whenever function is called "
   ]
  },
  {
   "cell_type": "code",
   "execution_count": 2,
   "id": "335fa43e-ae4b-462c-acd2-0b6be7687842",
   "metadata": {},
   "outputs": [
    {
     "name": "stdout",
     "output_type": "stream",
     "text": [
      "12\n",
      "9\n"
     ]
    }
   ],
   "source": [
    "#eg:\n",
    " \n",
    "a=12  # global scope\n",
    "\n",
    "def function():\n",
    "    b=9\n",
    "    print(b)         # here b is define within function  so we can not use it outside the function\n",
    "print(a)\n",
    "function()"
   ]
  },
  {
   "cell_type": "markdown",
   "id": "eeb076f8-8db6-44b8-bdee-dd2fcc374f0f",
   "metadata": {},
   "source": [
    "#### 6. What happens to variables in a local scope when the function call returns?"
   ]
  },
  {
   "cell_type": "markdown",
   "id": "c9ca5946-4d29-412c-b5e4-957cf63d9885",
   "metadata": {},
   "source": [
    "When a function returns, the local scope is destroyed, and all the variables in it are forgotten means no longer accesible."
   ]
  },
  {
   "cell_type": "markdown",
   "id": "242c1961-301b-4fa5-9f34-5c288a5a0d99",
   "metadata": {},
   "source": [
    "#### 7. What is the concept of a return value? Is it possible to have a return value in an expression?"
   ]
  },
  {
   "cell_type": "markdown",
   "id": "77e3eaa2-f5a0-498e-8faf-0d098675a46e",
   "metadata": {},
   "source": [
    " A return value is the value that a function call evaluates to  and return value can be used as part of an expression."
   ]
  },
  {
   "cell_type": "markdown",
   "id": "0ee1789c-940d-48ee-88ad-2cd1d2e416b3",
   "metadata": {},
   "source": [
    "#### 8. If a function does not have a return statement, what is the return value of a call to that function?"
   ]
  },
  {
   "cell_type": "markdown",
   "id": "0cd61b1e-a77e-4fb5-9d21-a488c1e0d89d",
   "metadata": {},
   "source": [
    " If there is no return statement for a function, its return value is None."
   ]
  },
  {
   "cell_type": "markdown",
   "id": "a0c11a4a-3d9e-41d4-a8f4-8a60f590b0ee",
   "metadata": {},
   "source": [
    "#### 9. How do you make a function variable refer to the global variable?"
   ]
  },
  {
   "cell_type": "markdown",
   "id": "72c9606b-5095-4d86-9373-e23aff1b8e34",
   "metadata": {},
   "source": [
    "To make a function variable refer to a global variable, you can use the global keyword. This keyword tells Python that you want to use the global variable with the same name as the function variable."
   ]
  },
  {
   "cell_type": "code",
   "execution_count": 4,
   "id": "5f9685c5-014d-472f-92b9-2212bafa2231",
   "metadata": {},
   "outputs": [],
   "source": [
    "# eg:\n",
    "x=23\n",
    "\n",
    "def func1():\n",
    "    global x\n",
    "    x=30\n",
    "    print(x)"
   ]
  },
  {
   "cell_type": "code",
   "execution_count": 6,
   "id": "c0515c3f-62be-45b7-92b0-f0d3f00eb5d4",
   "metadata": {},
   "outputs": [
    {
     "name": "stdout",
     "output_type": "stream",
     "text": [
      "30\n",
      "30\n"
     ]
    }
   ],
   "source": [
    "print(x)\n",
    "func1()"
   ]
  },
  {
   "cell_type": "markdown",
   "id": "36a9870a-d3af-4fc0-958b-7dd10133a765",
   "metadata": {},
   "source": [
    "#### 10. What is the data type of None?"
   ]
  },
  {
   "cell_type": "markdown",
   "id": "95d9bc7d-5f96-438d-bd40-9a1a6be3f97b",
   "metadata": {},
   "source": [
    " data type of None is Nonetype"
   ]
  },
  {
   "cell_type": "code",
   "execution_count": 8,
   "id": "9e098b82-e19e-4b5a-b48e-9923b018a538",
   "metadata": {},
   "outputs": [
    {
     "data": {
      "text/plain": [
       "NoneType"
      ]
     },
     "execution_count": 8,
     "metadata": {},
     "output_type": "execute_result"
    }
   ],
   "source": [
    "#eg\n",
    "type(None)"
   ]
  },
  {
   "cell_type": "markdown",
   "id": "5919e9e5-ee1c-45ce-a402-652e143da8f0",
   "metadata": {},
   "source": [
    "#### 11. What does the sentence import areallyourpetsnamederic do?"
   ]
  },
  {
   "cell_type": "markdown",
   "id": "922af428-cbf4-4567-8c04-0cc26d1bb308",
   "metadata": {},
   "source": [
    "That import statement imports a module named areallyourpetsnamederic."
   ]
  },
  {
   "cell_type": "markdown",
   "id": "7c41c8ea-386f-4133-8aac-67eedd6e7448",
   "metadata": {},
   "source": [
    "####  12. If you had a bacon() feature in a spam module, what would you call it after importing spam?"
   ]
  },
  {
   "cell_type": "markdown",
   "id": "2c0d7f56-1bcd-4d3f-b178-9dd42a072456",
   "metadata": {},
   "source": [
    "after importing spam module we can call bacon feature as spam.bacon()"
   ]
  },
  {
   "cell_type": "markdown",
   "id": "7e99beb6-308c-4004-95d0-8813fe52d5a1",
   "metadata": {},
   "source": [
    "#### 13. What can you do to save a programme from crashing if it encounters an error?"
   ]
  },
  {
   "cell_type": "markdown",
   "id": "86e700a0-be20-4f3b-9fa8-8beb2abcbee7",
   "metadata": {},
   "source": [
    " We can use try clause to catch the error & block clause to handle the error."
   ]
  },
  {
   "cell_type": "markdown",
   "id": "4afac601-08cd-407f-8997-99255fde008c",
   "metadata": {},
   "source": [
    "#### 14. What is the purpose of the try clause? What is the purpose of the except clause?"
   ]
  },
  {
   "cell_type": "markdown",
   "id": "a8f84610-c715-40bf-bde0-0a4eb3ce7be7",
   "metadata": {},
   "source": [
    "The code that could potentially cause an error goes in the try clause. The code that executes if an error happens goes in the except clause.\n",
    "\n",
    " "
   ]
  }
 ],
 "metadata": {
  "kernelspec": {
   "display_name": "Python 3 (ipykernel)",
   "language": "python",
   "name": "python3"
  },
  "language_info": {
   "codemirror_mode": {
    "name": "ipython",
    "version": 3
   },
   "file_extension": ".py",
   "mimetype": "text/x-python",
   "name": "python",
   "nbconvert_exporter": "python",
   "pygments_lexer": "ipython3",
   "version": "3.9.12"
  }
 },
 "nbformat": 4,
 "nbformat_minor": 5
}
