{
 "cells": [
  {
   "cell_type": "markdown",
   "id": "832b98c6",
   "metadata": {},
   "source": [
    "#### 1.Write a Python Program to Add Two Matrices?"
   ]
  },
  {
   "cell_type": "code",
   "execution_count": 25,
   "id": "56a9bb55",
   "metadata": {},
   "outputs": [
    {
     "name": "stdout",
     "output_type": "stream",
     "text": [
      "addition of two matrices are:\n",
      "[3, 5, 7]\n",
      "[6, 8, 10]\n",
      "[9, 11, 13]\n"
     ]
    }
   ],
   "source": [
    "# taking user input for one of the matrix\n",
    "mat1=[[1,2,3],[4,5,6],[7,8,9]]\n",
    "mat2=[[2,3,4],[2,3,4],[2,3,4]]\n",
    "mat3=[[0,0,0],[0,0,0],[0,0,0]]\n",
    "for i in range(3):\n",
    "    for j in range(3):\n",
    "        mat3[i][j]=mat1[i][j]+mat2[i][j]\n",
    "print(\"addition of two matrices are:\")\n",
    "for i in mat3:\n",
    "    print(i)"
   ]
  },
  {
   "cell_type": "markdown",
   "id": "fcd1e247",
   "metadata": {},
   "source": [
    "#### 2.Write a Python Program to Multiply Two Matrices?"
   ]
  },
  {
   "cell_type": "code",
   "execution_count": 26,
   "id": "b0f17b8f",
   "metadata": {},
   "outputs": [
    {
     "name": "stdout",
     "output_type": "stream",
     "text": [
      "multiplication of two matrices m1 and m2 are:\n",
      "[26, 12]\n",
      "[60, 29]\n"
     ]
    }
   ],
   "source": [
    "m1=[[1,2,3],[3,4,2]] # matrix m1 is of order 2x3\n",
    "m2=[[8,9],[9,0],[0,1]] # matrix m2 is of order 3x2\n",
    "m3=[[0,0],[0,0]]\n",
    "for i in range(2):\n",
    "    for j in range(2):\n",
    "        m3[i][j]=0\n",
    "        for k in range(3):\n",
    "            m3[i][j]=m3[i][j]+m1[i][k]*m2[k][j]\n",
    "print(\"multiplication of two matrices m1 and m2 are:\") \n",
    "for i in m3:\n",
    "    print(i)"
   ]
  },
  {
   "cell_type": "markdown",
   "id": "ea40cdf2",
   "metadata": {},
   "source": [
    "#### 3.Write a Python Program to Transpose a Matrix?"
   ]
  },
  {
   "cell_type": "code",
   "execution_count": 27,
   "id": "ed9a503b",
   "metadata": {},
   "outputs": [
    {
     "name": "stdout",
     "output_type": "stream",
     "text": [
      "transpose of matrix mat1\n",
      "[1, 4, 7]\n",
      "[2, 5, 8]\n",
      "[3, 6, 9]\n"
     ]
    }
   ],
   "source": [
    "mat1=[[1,2,3],[4,5,6],[7,8,9]]\n",
    "transpose=[[0,0,0],[0,0,0],[0,0,0]]\n",
    "\n",
    "\n",
    "# iterate through rows\n",
    "for i in range(len(mat1)):\n",
    "   # iterate through columns\n",
    "   for j in range(len(mat1[0])):\n",
    "        transpose[j][i] = mat1[i][j]\n",
    "print(\"transpose of matrix mat1\")        \n",
    "\n",
    "for row in transpose:\n",
    "    print(row)\n",
    "    \n"
   ]
  },
  {
   "cell_type": "markdown",
   "id": "ca93c518",
   "metadata": {},
   "source": [
    "#### 4.Write a Python Program to Sort Words in Alphabetic Order?"
   ]
  },
  {
   "cell_type": "code",
   "execution_count": 1,
   "id": "a38d211c",
   "metadata": {},
   "outputs": [
    {
     "name": "stdout",
     "output_type": "stream",
     "text": [
      "hello this is my python program\n",
      "The sorted words are:\n",
      "hello\n",
      "is\n",
      "my\n",
      "program\n",
      "python\n",
      "this\n"
     ]
    }
   ],
   "source": [
    "# To take input from the user\n",
    "\n",
    "my_str = input()\n",
    "\n",
    "# breakdown the string into a list of words\n",
    "words = [word.lower() for word in my_str.split()]\n",
    "\n",
    "# sort the list\n",
    "words.sort()\n",
    "\n",
    "print(\"The sorted words are:\")\n",
    "for word in words:\n",
    "    print(word)"
   ]
  },
  {
   "cell_type": "markdown",
   "id": "60217e52",
   "metadata": {},
   "source": [
    "#### 5.Write a Python Program to Remove Punctuation From a String?"
   ]
  },
  {
   "cell_type": "code",
   "execution_count": 28,
   "id": "6ae3c5c8",
   "metadata": {},
   "outputs": [
    {
     "name": "stdout",
     "output_type": "stream",
     "text": [
      "\"hello\"! ,,, whats up...\n",
      "hello  whats up\n"
     ]
    }
   ],
   "source": [
    "\n",
    "punctuations = '''!()-[]{};:'\"\\,<>./?@#$%^&*_~'''\n",
    "# To take input from the user\n",
    "my_str = input()\n",
    "\n",
    "\n",
    "# remove punctuation from the string\n",
    "#empty string\n",
    "no_punct = \"\"\n",
    "for char in my_str:\n",
    "    if char not in punctuations:\n",
    "        no_punct = no_punct + char\n",
    "\n",
    "\n",
    "print(no_punct)"
   ]
  },
  {
   "cell_type": "code",
   "execution_count": null,
   "id": "7a3a278d",
   "metadata": {},
   "outputs": [],
   "source": []
  }
 ],
 "metadata": {
  "kernelspec": {
   "display_name": "Python 3 (ipykernel)",
   "language": "python",
   "name": "python3"
  },
  "language_info": {
   "codemirror_mode": {
    "name": "ipython",
    "version": 3
   },
   "file_extension": ".py",
   "mimetype": "text/x-python",
   "name": "python",
   "nbconvert_exporter": "python",
   "pygments_lexer": "ipython3",
   "version": "3.9.12"
  }
 },
 "nbformat": 4,
 "nbformat_minor": 5
}
