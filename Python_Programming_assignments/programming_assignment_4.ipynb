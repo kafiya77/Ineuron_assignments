{
 "cells": [
  {
   "cell_type": "markdown",
   "id": "7ada3217",
   "metadata": {},
   "source": [
    "#### 1.Write a Python Program to Find the Factorial of a Number?"
   ]
  },
  {
   "cell_type": "code",
   "execution_count": 35,
   "id": "907b2411",
   "metadata": {},
   "outputs": [
    {
     "name": "stdout",
     "output_type": "stream",
     "text": [
      "5\n",
      "factorial of number is 120\n"
     ]
    }
   ],
   "source": [
    "number=int(input())\n",
    "fact=1\n",
    "while(number>0):\n",
    "    fact=fact*number\n",
    "    number=number-1\n",
    "print(f\"factorial of number is {fact}\")    "
   ]
  },
  {
   "cell_type": "markdown",
   "id": "c73d9de1",
   "metadata": {},
   "source": [
    "#### 2.Write a Python Program to Display the multiplication Table?"
   ]
  },
  {
   "cell_type": "code",
   "execution_count": 36,
   "id": "e23f3869",
   "metadata": {},
   "outputs": [
    {
     "name": "stdout",
     "output_type": "stream",
     "text": [
      "enter the number: 10\n",
      "10 x 1 = 10\n",
      "10 x 2 = 20\n",
      "10 x 3 = 30\n",
      "10 x 4 = 40\n",
      "10 x 5 = 50\n",
      "10 x 6 = 60\n",
      "10 x 7 = 70\n",
      "10 x 8 = 80\n",
      "10 x 9 = 90\n",
      "10 x 10 = 100\n"
     ]
    }
   ],
   "source": [
    "num=int(input(\"enter the number: \"))\n",
    "for i in range(1,11):\n",
    "    print(num ,\"x\", i,\"=\", i*num)\n"
   ]
  },
  {
   "cell_type": "markdown",
   "id": "1b605b16",
   "metadata": {},
   "source": [
    "#### 3.Write a Python Program to Print the Fibonacci sequence?"
   ]
  },
  {
   "cell_type": "code",
   "execution_count": 2,
   "id": "f6b3daee",
   "metadata": {},
   "outputs": [
    {
     "name": "stdout",
     "output_type": "stream",
     "text": [
      "enter the number: 7\n",
      "1\n",
      "1\n",
      "2\n",
      "3\n",
      "5\n",
      "8\n"
     ]
    }
   ],
   "source": [
    "n=int(input(\"enter the number: \"))\n",
    "x=0\n",
    "y=1\n",
    "z=0\n",
    "while(z<=n):\n",
    "    \n",
    "    x=y\n",
    "    y=z\n",
    "    z=x+y\n",
    "    print(z)"
   ]
  },
  {
   "cell_type": "markdown",
   "id": "6f25d058",
   "metadata": {},
   "source": [
    "#### 4.Write a Python Program to Check Armstrong Number?"
   ]
  },
  {
   "cell_type": "code",
   "execution_count": 38,
   "id": "c5139309",
   "metadata": {},
   "outputs": [
    {
     "name": "stdout",
     "output_type": "stream",
     "text": [
      "enter the number to check: 153\n",
      "153 is armstrong number\n"
     ]
    }
   ],
   "source": [
    "num=int(input(\"enter the number to check: \"))\n",
    "order=len(str(num))\n",
    "sum=0\n",
    "temp=num\n",
    "while(temp>0):\n",
    "    digit=temp%10\n",
    "    sum=sum+(digit**order)\n",
    "    temp=temp//10\n",
    "if num==sum:\n",
    "    print(f\"{num} is armstrong number\")\n",
    "else:\n",
    "    print(f\"{num} is not a armstrong number\")"
   ]
  },
  {
   "cell_type": "markdown",
   "id": "d81f4ba7",
   "metadata": {},
   "source": [
    "#### 5.Write a Python Program to Find Armstrong Number in an Interval?"
   ]
  },
  {
   "cell_type": "code",
   "execution_count": 4,
   "id": "15211bf2",
   "metadata": {},
   "outputs": [
    {
     "name": "stdout",
     "output_type": "stream",
     "text": [
      "lower: 100\n",
      "upper: 1000\n",
      "153\n",
      "370\n",
      "371\n",
      "407\n"
     ]
    }
   ],
   "source": [
    "# Program to check Armstrong numbers in a certain interval\n",
    "\n",
    "lower = int(input(\"lower: \"))\n",
    "upper = int(input(\"upper: \"))\n",
    "\n",
    "for num in range(lower, upper + 1):\n",
    "\n",
    "    order=len(str(num))\n",
    "    \n",
    "    sum = 0\n",
    "\n",
    "    temp = num\n",
    "    while temp > 0:\n",
    "        digit = temp % 10\n",
    "        sum=sum+ (digit ** order)\n",
    "        temp = temp// 10\n",
    "\n",
    "    if num == sum:\n",
    "        print(num)"
   ]
  },
  {
   "cell_type": "markdown",
   "id": "0de334cc",
   "metadata": {},
   "source": [
    "#### 6.Write a Python Program to Find the Sum of Natural Numbers?"
   ]
  },
  {
   "cell_type": "code",
   "execution_count": 31,
   "id": "21356d6b",
   "metadata": {},
   "outputs": [
    {
     "name": "stdout",
     "output_type": "stream",
     "text": [
      "enter the number upto which you want to sum:  10\n",
      "the sum of first 10 numbers is 55\n"
     ]
    }
   ],
   "source": [
    "n=int(input(\"enter the number upto which you want to sum:  \"))\n",
    "i=1\n",
    "sum=0\n",
    "while(i<=n):\n",
    "    sum=sum+i\n",
    "    i=i+1\n",
    "print(f\"the sum of first {n} numbers is {sum}\")    \n"
   ]
  },
  {
   "cell_type": "code",
   "execution_count": null,
   "id": "dbccef22",
   "metadata": {},
   "outputs": [],
   "source": []
  }
 ],
 "metadata": {
  "kernelspec": {
   "display_name": "Python 3 (ipykernel)",
   "language": "python",
   "name": "python3"
  },
  "language_info": {
   "codemirror_mode": {
    "name": "ipython",
    "version": 3
   },
   "file_extension": ".py",
   "mimetype": "text/x-python",
   "name": "python",
   "nbconvert_exporter": "python",
   "pygments_lexer": "ipython3",
   "version": "3.9.12"
  }
 },
 "nbformat": 4,
 "nbformat_minor": 5
}
