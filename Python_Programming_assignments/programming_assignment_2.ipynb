{
 "cells": [
  {
   "cell_type": "markdown",
   "id": "b0a1a797",
   "metadata": {},
   "source": [
    "#### 1.Write a Python program to convert kilometers to miles?"
   ]
  },
  {
   "cell_type": "code",
   "execution_count": 3,
   "id": "779df041",
   "metadata": {},
   "outputs": [
    {
     "name": "stdout",
     "output_type": "stream",
     "text": [
      "56\n",
      "56.0 kilometres is equal to 34.79672 miles\n"
     ]
    }
   ],
   "source": [
    "kilometres=float(input()) #user input\n",
    "\n",
    "# 1km=0.62137 miles \n",
    "k=0.62137\n",
    "\n",
    "#converting km to miles\n",
    "miles=k*kilometres  #output \n",
    "\n",
    "print(f\"{kilometres} kilometres is equal to {miles} miles\")"
   ]
  },
  {
   "cell_type": "markdown",
   "id": "3f708c08",
   "metadata": {},
   "source": [
    "#### 2.Write a Python program to convert Celsius to Fahrenheit"
   ]
  },
  {
   "cell_type": "code",
   "execution_count": 4,
   "id": "0f461e7c",
   "metadata": {},
   "outputs": [
    {
     "name": "stdout",
     "output_type": "stream",
     "text": [
      "56\n",
      "56.0 degree celsius is equals to 132.8 degree fahrenheit\n"
     ]
    }
   ],
   "source": [
    "celsius=float(input()) #user input\n",
    "#converting celsius to fahrenheit\n",
    "fahrenheit=(celsius*9/5)+32\n",
    "\n",
    "print(f\"{celsius} degrees celsius is equals to {fahrenheit} degrees fahrenheit\")\n",
    "\n"
   ]
  },
  {
   "cell_type": "markdown",
   "id": "9bab3446",
   "metadata": {},
   "source": [
    "#### 3.Write a Python program to display calendar?"
   ]
  },
  {
   "cell_type": "code",
   "execution_count": 5,
   "id": "fa35a2b9",
   "metadata": {},
   "outputs": [
    {
     "name": "stdout",
     "output_type": "stream",
     "text": [
      "2023\n",
      "3\n",
      "     March 2023\n",
      "Mo Tu We Th Fr Sa Su\n",
      "       1  2  3  4  5\n",
      " 6  7  8  9 10 11 12\n",
      "13 14 15 16 17 18 19\n",
      "20 21 22 23 24 25 26\n",
      "27 28 29 30 31\n",
      "\n"
     ]
    }
   ],
   "source": [
    "import calendar\n",
    "year=int(input())\n",
    "month=int(input())\n",
    "print(calendar.month(year,month))"
   ]
  },
  {
   "cell_type": "markdown",
   "id": "a956baf9",
   "metadata": {},
   "source": [
    "#### 4.Write a Python program to solve quadratic equation?"
   ]
  },
  {
   "cell_type": "code",
   "execution_count": 11,
   "id": "eb425855",
   "metadata": {},
   "outputs": [
    {
     "name": "stdout",
     "output_type": "stream",
     "text": [
      "enter the value of coefficient of x^2: 1\n",
      "enter the value of coefficient of x: 8\n",
      "enter the value of constant: 2\n",
      "two real and distinct roots are -0.25834261322605867 and -7.741657386773941\n"
     ]
    }
   ],
   "source": [
    "a=float(input(\"enter the value of coefficient of x^2: \"))\n",
    "b=float(input(\"enter the value of coefficient of x: \"))\n",
    "c=float(input(\"enter the value of constant: \"))\n",
    "## calculating discriminant D:\n",
    "D=((b**2)-(4*a*c))\n",
    "if D>0:\n",
    "    #two real and distinct roots are\n",
    "    root1=(-b+(D**0.5))/(2*a)\n",
    "    root2=(-b-(D**0.5))/(2*a)\n",
    "    print(f\"two real and distinct roots are {root1} and {root2}\")\n",
    "elif D==0:\n",
    "    # one real and repeated root\n",
    "    root=-b/(2*a)\n",
    "    print(f\"one real and repeated root {root}\")\n",
    "else:\n",
    "    #two complex root\n",
    "    real_part=-b/(2*a)\n",
    "    imaginary_part=((-D)**0.5)/(2*a)\n",
    "    print(real_part)\n",
    "   \n",
    "    print(f\"root1= {real_part} + {imaginary_part}\")\n",
    "    print(f\"root1= {real_part} - {imaginary_part}\")"
   ]
  },
  {
   "cell_type": "markdown",
   "id": "bc446993",
   "metadata": {},
   "source": [
    "#### 5.Write a Python program to swap two variables without temp variable?"
   ]
  },
  {
   "cell_type": "code",
   "execution_count": 12,
   "id": "a8539c5f",
   "metadata": {},
   "outputs": [
    {
     "name": "stdout",
     "output_type": "stream",
     "text": [
      "10 20\n",
      "value of variable x is 10 and value of variable y is 20\n",
      "value of variable x is 20 and value of variable y is 10\n"
     ]
    }
   ],
   "source": [
    "x,y=input().split()\n",
    "# before swap\n",
    "print(f\"value of variable x is {x} and value of variable y is {y}\")\n",
    "x,y=y,x\n",
    "# after swap\n",
    "print(f\"value of variable x is {x} and value of variable y is {y}\")"
   ]
  },
  {
   "cell_type": "code",
   "execution_count": null,
   "id": "ead8ad67",
   "metadata": {},
   "outputs": [],
   "source": []
  }
 ],
 "metadata": {
  "kernelspec": {
   "display_name": "Python 3 (ipykernel)",
   "language": "python",
   "name": "python3"
  },
  "language_info": {
   "codemirror_mode": {
    "name": "ipython",
    "version": 3
   },
   "file_extension": ".py",
   "mimetype": "text/x-python",
   "name": "python",
   "nbconvert_exporter": "python",
   "pygments_lexer": "ipython3",
   "version": "3.9.12"
  }
 },
 "nbformat": 4,
 "nbformat_minor": 5
}
