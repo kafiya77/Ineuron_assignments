{
 "cells": [
  {
   "cell_type": "markdown",
   "id": "47537242-16a8-4f7f-b873-2cf2077b689c",
   "metadata": {},
   "source": [
    "#### 1. What does an empty dictionary&#39;s code look like?"
   ]
  },
  {
   "cell_type": "code",
   "execution_count": 24,
   "id": "60414e95-c6d3-4c39-9f09-03f92248ab79",
   "metadata": {},
   "outputs": [
    {
     "data": {
      "text/plain": [
       "dict"
      ]
     },
     "execution_count": 24,
     "metadata": {},
     "output_type": "execute_result"
    }
   ],
   "source": [
    "\n",
    "dic={}  # empty dictionary\n",
    "type(dic)"
   ]
  },
  {
   "cell_type": "markdown",
   "id": "b6c0da48-3d7d-4f60-92ac-b826537fa71c",
   "metadata": {},
   "source": [
    "#### 2. What is the value of a dictionary value with the key &#39;foo&#39; and the value 42?"
   ]
  },
  {
   "cell_type": "markdown",
   "id": "44e617af-882e-4849-88bc-8028d7333fcb",
   "metadata": {},
   "source": [
    "**ANS** : the value of a dictionary value with the key \"foo\" and value 42 is  {\"foo\":42}"
   ]
  },
  {
   "cell_type": "markdown",
   "id": "a955b775-e1a3-4f9f-b9f7-cbe90d47a519",
   "metadata": {},
   "source": [
    "#### 3. What is the most significant distinction between a dictionary and a list?"
   ]
  },
  {
   "cell_type": "markdown",
   "id": "365ca9a7-f9f0-415a-88a8-a7ed9bed1792",
   "metadata": {},
   "source": [
    "**ANS** :dictionary contains key value pairs and list contains only values which can be any data type, also  Items stored in a dictionary are Unordered , while the items in a list are ordered "
   ]
  },
  {
   "cell_type": "markdown",
   "id": "d3c913bf-2e54-4fde-bf84-b35a88d5fece",
   "metadata": {},
   "source": [
    "#### 4. What happens if you try to access spam[&#39;foo&#39;] if spam is {&#39;bar&#39;: 100}?"
   ]
  },
  {
   "cell_type": "markdown",
   "id": "86515087-2c71-471b-bdd5-130f165cbc27",
   "metadata": {},
   "source": [
    "**ANS** : we will the key error as in the dict there is \"bar\" key not  \"foo\" key"
   ]
  },
  {
   "cell_type": "markdown",
   "id": "5ef318c4-9d15-4e1c-92ca-f58116a6f926",
   "metadata": {},
   "source": [
    "#### 5. If a dictionary is stored in spam, what is the difference between the expressions &#39;cat&#39; in spam and &#39;cat&#39; in spam.keys()?"
   ]
  },
  {
   "cell_type": "markdown",
   "id": "26008ae3-b73d-4853-8b9e-870d1506ebf2",
   "metadata": {},
   "source": [
    "ANS:There is no difference. The in operator checks whether a value exists as a key in the dictionary."
   ]
  },
  {
   "cell_type": "markdown",
   "id": "23f1f4b1-356f-4a93-bcad-a971424cdc1c",
   "metadata": {},
   "source": [
    "#### 6. If a dictionary is stored in spam, what is the difference between the expressions &#39;cat&#39; in spam and &#39;cat&#39; in spam.values()?"
   ]
  },
  {
   "cell_type": "markdown",
   "id": "e15a2b7b-4d09-40c1-9836-66df32255fb7",
   "metadata": {},
   "source": [
    "cat' in spam checks whether there is a 'cat' key in the dictionary, while 'cat' in spam.values() checks whether there is a value 'cat' for one of the keys in spam."
   ]
  },
  {
   "cell_type": "markdown",
   "id": "97a9a219-317f-4288-aada-118a2f03fc7c",
   "metadata": {},
   "source": [
    "#### 7. What is a shortcut for the following code?\n",
    "#### if &#39;color&#39; not in spam:\n",
    "#### spam[&#39;color&#39;] = &#39;black&#39;"
   ]
  },
  {
   "cell_type": "markdown",
   "id": "872b76c7-306a-4933-aeba-6a347734147f",
   "metadata": {},
   "source": [
    "spam.setdefault('color','black')"
   ]
  },
  {
   "cell_type": "markdown",
   "id": "f0c80af2-58a3-4341-9732-2d58478fabce",
   "metadata": {},
   "source": [
    "#### 8. How do you &quot;pretty print&quot; dictionary values using which module and function?"
   ]
  },
  {
   "cell_type": "markdown",
   "id": "120e9b36-56ed-47e9-a183-e4b99ea4e723",
   "metadata": {},
   "source": [
    "By using pprint() function of pprint module \n",
    "\n",
    "and  pprint() function doesnot prettify nested dictionaries by using dumps() method of json module by using dumps() method of yaml module"
   ]
  }
 ],
 "metadata": {
  "kernelspec": {
   "display_name": "Python 3 (ipykernel)",
   "language": "python",
   "name": "python3"
  },
  "language_info": {
   "codemirror_mode": {
    "name": "ipython",
    "version": 3
   },
   "file_extension": ".py",
   "mimetype": "text/x-python",
   "name": "python",
   "nbconvert_exporter": "python",
   "pygments_lexer": "ipython3",
   "version": "3.10.6"
  }
 },
 "nbformat": 4,
 "nbformat_minor": 5
}
