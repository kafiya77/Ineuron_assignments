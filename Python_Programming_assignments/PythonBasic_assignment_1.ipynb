{
 "cells": [
  {
   "cell_type": "code",
   "execution_count": 1,
   "id": "01ae1fc8",
   "metadata": {},
   "outputs": [
    {
     "data": {
      "text/plain": [
       "'1 .In the below elements which of them are values or an expression? \\neg:- values can be integer or string and expressions will be mathematical operators.\\n*\\nhello\\n-87.8\\n-\\n/\\n+\\n6'"
      ]
     },
     "execution_count": 1,
     "metadata": {},
     "output_type": "execute_result"
    }
   ],
   "source": [
    "\"\"\"1 .In the below elements which of them are values or an expression? \n",
    "eg:- values can be integer or string and expressions will be mathematical operators.\n",
    "*\n",
    "hello\n",
    "-87.8\n",
    "-\n",
    "/\n",
    "+\n",
    "6\"\"\""
   ]
  },
  {
   "cell_type": "code",
   "execution_count": null,
   "id": "389e72e8",
   "metadata": {},
   "outputs": [],
   "source": [
    "\"\"\"\n",
    "Answer :\n",
    "*       is an expression which is used for multiplication,\n",
    "'hello' is a value and it is a string ,\n",
    "-87.8   is a integer value ,\n",
    "-       is a mathematical operator used for subtraction\n",
    "/       is a mathematical operator used for division\n",
    "+       is a mathematical operator used for additon\n",
    "6       is a value \"\"\""
   ]
  },
  {
   "cell_type": "markdown",
   "id": "7cbd6bf7-0a1e-47dc-9c2b-6a0c29e74b16",
   "metadata": {},
   "source": [
    "2. What is the difference between string and variable?"
   ]
  },
  {
   "cell_type": "markdown",
   "id": "856b0e19",
   "metadata": {},
   "source": [
    "Ans : Variable is used to store values and String is a type of information that you store in variable we can represent string in python like this in double quotes\" \" or single quots' '  eg : \"kafiya\" is a string and  name=\"kafiya\"  , here name is a variable. "
   ]
  },
  {
   "cell_type": "markdown",
   "id": "dc7d04e6-aa20-472b-8b30-23b8b826abd0",
   "metadata": {},
   "source": [
    "3.  Describe three different data types.\n"
   ]
  },
  {
   "cell_type": "code",
   "execution_count": null,
   "id": "ab656325-d487-4e70-92cf-173b7938b840",
   "metadata": {},
   "outputs": [],
   "source": [
    "\"\"\" Ans : \n",
    "int data type : we can use to represent whole number called integar value  ,eg : 56\n",
    "\n",
    "float data type : we use this data type to represent floting point value eg : 4.6 \n",
    "\n",
    "Bool data type : In this data type give you bool values (True,False) \"\"\" "
   ]
  },
  {
   "cell_type": "code",
   "execution_count": 2,
   "id": "6bb04c37-3d86-43c3-8722-1a0ee90c89e3",
   "metadata": {},
   "outputs": [
    {
     "name": "stdout",
     "output_type": "stream",
     "text": [
      "<class 'int'>\n",
      "<class 'float'>\n",
      "<class 'bool'>\n"
     ]
    }
   ],
   "source": [
    "print(type(56))\n",
    "print(type(4.6))\n",
    "print(type(True))\n"
   ]
  },
  {
   "cell_type": "markdown",
   "id": "8df67287-e29c-4afb-90e8-9dfa98141d4d",
   "metadata": {},
   "source": [
    "4.What is an expression made up of? What do all expressions do?"
   ]
  },
  {
   "cell_type": "markdown",
   "id": "30bca92b",
   "metadata": {},
   "source": [
    "ANS:\n",
    "An expression is a combination of values, variables, and operators that represents a single value. \n",
    "In Python, an expression can be as simple as a single number or as complex as a series of calculations and function calls.\n",
    "\n",
    "Eg: \n",
    "19+8\n",
    "a * b\n",
    "\n"
   ]
  },
  {
   "cell_type": "markdown",
   "id": "6f370b11-700d-4a49-89c8-33ba84274742",
   "metadata": {},
   "source": [
    "5.This assignment statements, like spam = 10. What is the difference between an\n",
    "expression and a statement?"
   ]
  },
  {
   "cell_type": "markdown",
   "id": "43a38d94",
   "metadata": {},
   "source": [
    "ANS:\n",
    "    An expression is a combination of values, variables, and operators.When we type an expression at the promt, the interpreter give it which means that it finds the value of the expression it can be any data type , but variable declaration and assignment are statements because they do not return a value\n",
    "\n",
    "eg: \n",
    "\n",
    "spam=10 is a variable declaration and  x+y is an expression ."
   ]
  },
  {
   "cell_type": "markdown",
   "id": "1ef4597a-9e27-43a5-873f-7a6d39bc1413",
   "metadata": {},
   "source": [
    "##### 6. After running the following code, what does the variable bacon contain?\n",
    "- bacon = 22\n",
    "- bacon + 1 "
   ]
  },
  {
   "cell_type": "code",
   "execution_count": 9,
   "id": "0bad0270-58d8-4102-a1fd-8f7091676f1b",
   "metadata": {},
   "outputs": [
    {
     "name": "stdout",
     "output_type": "stream",
     "text": [
      "22\n"
     ]
    }
   ],
   "source": [
    "\n",
    "#Ans:\n",
    "bacon=22\n",
    "bacon+1\n",
    "\n",
    "print(bacon)\n",
    "#here after adding a value to bacon it will just return a value to the expression and value that assigned to bacon will remain same ."
   ]
  },
  {
   "cell_type": "raw",
   "id": "831c364d-789f-473c-908d-df72f0c05c15",
   "metadata": {},
   "source": [
    "\"\"\" 7. What should the values of the following two terms be?\n",
    "'spam' + 'spamspam'\n",
    "'spam'*3"
   ]
  },
  {
   "cell_type": "code",
   "execution_count": 10,
   "id": "1ebd7b1c-6da3-4d15-b335-62162bfe406c",
   "metadata": {},
   "outputs": [
    {
     "name": "stdout",
     "output_type": "stream",
     "text": [
      "spamspamspam\n",
      "spamspamspam\n"
     ]
    }
   ],
   "source": [
    "# ans\n",
    "\n",
    "print(\"spam\"+\"spamspam\")\n",
    "print(\"spam\"*3)"
   ]
  },
  {
   "cell_type": "markdown",
   "id": "31060a56-efc5-45f0-9b9f-1dac86134529",
   "metadata": {},
   "source": [
    "8. Why is eggs a valid variable name while 100 is invalid?"
   ]
  },
  {
   "cell_type": "markdown",
   "id": "b050466b-9d3c-4be0-8299-6ab5a98357f8",
   "metadata": {},
   "source": [
    "ans : eggs is valid variable name because variable name cannot begin with number."
   ]
  },
  {
   "cell_type": "code",
   "execution_count": null,
   "id": "a3489a2d-8e87-4ad3-9bfa-6665f8d3c32d",
   "metadata": {},
   "outputs": [],
   "source": []
  },
  {
   "cell_type": "markdown",
   "id": "40357083-0975-42cd-ab2c-15fd0a62b853",
   "metadata": {},
   "source": [
    "9. What three functions can be used to get the integer, floating-point number, or string\n",
    "version of a value?"
   ]
  },
  {
   "cell_type": "code",
   "execution_count": 11,
   "id": "27ae7fc9-9aed-4bc6-94d1-388e07e6b73c",
   "metadata": {},
   "outputs": [
    {
     "name": "stdout",
     "output_type": "stream",
     "text": [
      "10\n",
      "5.0\n",
      "9\n"
     ]
    }
   ],
   "source": [
    "# int() - this function used to an integer \n",
    "print(int(10.9))\n",
    "\n",
    "# float() - this function used to get floating point number \n",
    "\n",
    "print(float(5))\n",
    "\n",
    "# str() - this function used to get an string version of value \n",
    "\n",
    "print(str(9))"
   ]
  },
  {
   "cell_type": "markdown",
   "id": "44fef988-ffdd-4524-9667-05a02e9289ce",
   "metadata": {},
   "source": [
    "10.Why does this expression cause an error? How can you fix it?\n",
    "'I have eaten' + 99 + 'burritos'"
   ]
  },
  {
   "cell_type": "markdown",
   "id": "a15a599e-a10f-45b8-9a83-3f89c164c507",
   "metadata": {},
   "source": [
    "\n",
    "ans :\n",
    "    \n",
    "The error is caused due to the integer value. Integer value cannot be concatenated with strings.\n",
    "and we can fix this error by using 99 as a string value \n",
    "\n"
   ]
  },
  {
   "cell_type": "code",
   "execution_count": 14,
   "id": "c823dc6c-6ed8-43a3-8f75-d9a369860980",
   "metadata": {},
   "outputs": [
    {
     "name": "stdout",
     "output_type": "stream",
     "text": [
      "I have eaten 99 burritos\n"
     ]
    }
   ],
   "source": [
    "print('I have eaten '+str(99)+' burritos')"
   ]
  }
 ],
 "metadata": {
  "kernelspec": {
   "display_name": "Python 3 (ipykernel)",
   "language": "python",
   "name": "python3"
  },
  "language_info": {
   "codemirror_mode": {
    "name": "ipython",
    "version": 3
   },
   "file_extension": ".py",
   "mimetype": "text/x-python",
   "name": "python",
   "nbconvert_exporter": "python",
   "pygments_lexer": "ipython3",
   "version": "3.9.12"
  }
 },
 "nbformat": 4,
 "nbformat_minor": 5
}
