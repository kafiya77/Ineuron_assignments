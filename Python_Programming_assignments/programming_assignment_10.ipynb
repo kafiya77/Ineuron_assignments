{
 "cells": [
  {
   "cell_type": "markdown",
   "id": "fb0a9a5a",
   "metadata": {},
   "source": [
    "#### 1.Write a Python program to find sum of elements in list?"
   ]
  },
  {
   "cell_type": "code",
   "execution_count": 12,
   "id": "d4897668",
   "metadata": {},
   "outputs": [
    {
     "name": "stdout",
     "output_type": "stream",
     "text": [
      "The Sum of numbers in list l1 is 166.8\n"
     ]
    }
   ],
   "source": [
    "l1=[10,20,\"teddy\",30,56.8,50,\"sky\"]\n",
    "\n",
    "s=0\n",
    "\n",
    "for i in l1:\n",
    "    if type(i)==int or type(i)==float:\n",
    "        s=s+i\n",
    "        \n",
    "print(f\"The Sum of numbers in list l1 is {s}\")    "
   ]
  },
  {
   "cell_type": "markdown",
   "id": "8b738fdd",
   "metadata": {},
   "source": [
    "#### 2.Write a Python program to Multiply all numbers in the list?"
   ]
  },
  {
   "cell_type": "code",
   "execution_count": 13,
   "id": "537fcc30",
   "metadata": {},
   "outputs": [
    {
     "name": "stdout",
     "output_type": "stream",
     "text": [
      "Multiplication of all the numbers in list l2 is 80.0\n"
     ]
    }
   ],
   "source": [
    "l2=[1,2,\"sky\",\"teddy\",\"45\",5.0,2.0,4]\n",
    "\n",
    "m=1\n",
    "\n",
    "for i in l2:\n",
    "    if type(i)==int or type(i)==float:\n",
    "        m=m*i\n",
    "        \n",
    "print(f\"Multiplication of all the numbers in list l2 is {m}\")    "
   ]
  },
  {
   "cell_type": "markdown",
   "id": "280f9e9e",
   "metadata": {},
   "source": [
    "#### 3.Write a Python program to find smallest number in a list?"
   ]
  },
  {
   "cell_type": "code",
   "execution_count": 13,
   "id": "5e2ebb91",
   "metadata": {},
   "outputs": [
    {
     "name": "stdout",
     "output_type": "stream",
     "text": [
      "the smallest number in the list is 10\n"
     ]
    }
   ],
   "source": [
    "# when list consist of only numbers \n",
    "number=[10,20,30,40]\n",
    "smallest=min(number)\n",
    "print(f\"the smallest number in the list is {smallest}\")"
   ]
  },
  {
   "cell_type": "code",
   "execution_count": 41,
   "id": "401a8533",
   "metadata": {},
   "outputs": [
    {
     "name": "stdout",
     "output_type": "stream",
     "text": [
      "0 1 5 1 7 8 "
     ]
    }
   ],
   "source": [
    "# list consisting of different data type\n",
    "l2=[10,2,\"sky\",\"teddy\",\"45\",5.0,2.0,-1,-20]\n",
    "\n",
    "# finding the index of numbers in list l2\n",
    "for i in l2:\n",
    "    if type(i)==int or type(i)==float:\n",
    "        print(l2.index(i),end=\" \")\n"
   ]
  },
  {
   "cell_type": "code",
   "execution_count": 42,
   "id": "23ee2eb6",
   "metadata": {},
   "outputs": [
    {
     "name": "stdout",
     "output_type": "stream",
     "text": [
      "The smallest number in the list l2 is -20\n"
     ]
    }
   ],
   "source": [
    "# finding the smallest number in the list l2        \n",
    "smallest=l2[0]\n",
    "for i in l2:\n",
    "    if type(i)==int or type(i)==float:\n",
    "        if(i<smallest):\n",
    "                smallest=i\n",
    "print(f\"The smallest number in the list l2 is {smallest}\")                \n",
    "            "
   ]
  },
  {
   "cell_type": "markdown",
   "id": "b5b9522e",
   "metadata": {},
   "source": [
    "#### 4.Write a Python program to find largest number in a list?"
   ]
  },
  {
   "cell_type": "code",
   "execution_count": 43,
   "id": "769399ec",
   "metadata": {},
   "outputs": [
    {
     "name": "stdout",
     "output_type": "stream",
     "text": [
      "The largest number in the list l2 is 10\n"
     ]
    }
   ],
   "source": [
    "# list consisting of different data type \n",
    "\n",
    "l2=[10,2,\"sky\",\"teddy\",\"45\",5.0,2.0,-1,-20]\n",
    "\n",
    "largest=l2[0]\n",
    "for i in l2:\n",
    "    if type(i)==int or type(i)==float:\n",
    "        if(i>largest):\n",
    "                largest=i\n",
    "print(f\"The largest number in the list l2 is {largest}\")                \n",
    "                "
   ]
  },
  {
   "cell_type": "code",
   "execution_count": 45,
   "id": "020fab22",
   "metadata": {},
   "outputs": [
    {
     "name": "stdout",
     "output_type": "stream",
     "text": [
      "the largest number in the list is 40\n"
     ]
    }
   ],
   "source": [
    "# when list consist of only numbers\n",
    "number=[10,20,30,40]\n",
    "largest=max(number)\n",
    "print(f\"the largest number in the list is {largest}\")\n"
   ]
  },
  {
   "cell_type": "markdown",
   "id": "71fc26e9",
   "metadata": {},
   "source": [
    "#### 5. Write a Python program to find second largest number in a list?"
   ]
  },
  {
   "cell_type": "code",
   "execution_count": 2,
   "id": "dd0fc509",
   "metadata": {},
   "outputs": [
    {
     "name": "stdout",
     "output_type": "stream",
     "text": [
      "Second largest element is: 100.1\n"
     ]
    }
   ],
   "source": [
    "# Python program to find second largest number in a list\n",
    " \n",
    "# List of numbers\n",
    "list1 = [10, 80, 20, 4, 45, 45, 45, 99, 99,100.1,102.45]\n",
    " \n",
    "# Removing duplicates from the list\n",
    "list2 = list(set(list1))\n",
    " \n",
    "# Sorting the  list\n",
    "list2.sort()\n",
    " \n",
    "# Printing the second last element\n",
    "print(\"Second largest element is:\", list2[-2])"
   ]
  },
  {
   "cell_type": "markdown",
   "id": "3f9ba16b",
   "metadata": {},
   "source": [
    "#### 6.Write a Python program to find N largest elements from a list?"
   ]
  },
  {
   "cell_type": "code",
   "execution_count": 11,
   "id": "d84c5d71",
   "metadata": {},
   "outputs": [
    {
     "name": "stdout",
     "output_type": "stream",
     "text": [
      "5\n",
      "5 Largest elements in the list are [102.45, 100.1, 99, 80, 45]\n"
     ]
    }
   ],
   "source": [
    "# Python program to find N largest numberS in a list\n",
    "list1 = [10, 80, 20, 4, 45, 45, 45, 99, 99,100.1,102.45]\n",
    "\n",
    "# user input \n",
    "N=int(input())\n",
    "\n",
    "# Removing duplicates from the list\n",
    "list2 = list(set(list1))\n",
    "\n",
    "# Sorting the  list\n",
    "list2.sort()\n",
    "list2.reverse()\n",
    "\n",
    "print(f\"{N} Largest elements in the list are {list2[0:N]}\")\n"
   ]
  },
  {
   "cell_type": "markdown",
   "id": "d31a4b70",
   "metadata": {},
   "source": [
    "#### 7.Write a Python program to print even numbers in a list?"
   ]
  },
  {
   "cell_type": "code",
   "execution_count": 3,
   "id": "b21b25a4",
   "metadata": {},
   "outputs": [
    {
     "name": "stdout",
     "output_type": "stream",
     "text": [
      "even numbers in the list [10, 2, 2.0, -20]\n"
     ]
    }
   ],
   "source": [
    "l2=[10,2,\"sky\",\"teddy\",\"45\",5.0,2.0,-1,-20]\n",
    "even=list()\n",
    "for i in l2:\n",
    "     if type(i)==int or type(i)==float:\n",
    "            if i%2==0:\n",
    "                even.append(i)\n",
    "print(f\"even numbers in the list {even}\")    "
   ]
  },
  {
   "cell_type": "markdown",
   "id": "fbae2b80",
   "metadata": {},
   "source": [
    "#### 8.Write a Python program to print odd numbers in a list?"
   ]
  },
  {
   "cell_type": "code",
   "execution_count": 4,
   "id": "864753b4",
   "metadata": {},
   "outputs": [
    {
     "name": "stdout",
     "output_type": "stream",
     "text": [
      "even numbers in the list[5.0, -1]\n"
     ]
    }
   ],
   "source": [
    "l2=[10,2,\"sky\",\"teddy\",\"45\",5.0,2.0,-1,-20]\n",
    "odd=list()\n",
    "for i in l2:\n",
    "     if type(i)==int or type(i)==float:\n",
    "            if i%2!=0:\n",
    "                odd.append(i)\n",
    "print(f\"even numbers in the list{odd}\")    \n"
   ]
  },
  {
   "cell_type": "markdown",
   "id": "8ffc2a0b",
   "metadata": {},
   "source": [
    "#### 9. Write a Python program to Remove empty List from List?"
   ]
  },
  {
   "cell_type": "code",
   "execution_count": 57,
   "id": "6daecd2b",
   "metadata": {},
   "outputs": [
    {
     "name": "stdout",
     "output_type": "stream",
     "text": [
      "[4, 5, 6, 'hello', [3, 4, 5], 8, 9]\n"
     ]
    }
   ],
   "source": [
    "main_list=[4,5,6,\"hello\",[],[3,4,5],8,9]\n",
    "empty_list=[]\n",
    "if empty_list in main_list:\n",
    "    main_list.remove(empty_list)\n",
    "print(main_list)    "
   ]
  },
  {
   "cell_type": "markdown",
   "id": "a9fea9b7",
   "metadata": {},
   "source": [
    "#### 10. Write a Python program to Cloning or Copying a list?"
   ]
  },
  {
   "cell_type": "code",
   "execution_count": 63,
   "id": "c9c11589",
   "metadata": {},
   "outputs": [
    {
     "name": "stdout",
     "output_type": "stream",
     "text": [
      "original list:[1, 2, 3, 4, 5]\n",
      "cloned list:[1, 2, 3, 4, 5]\n"
     ]
    }
   ],
   "source": [
    "original=[1,2,3,4,5]\n",
    "copy=list(original)\n",
    "print(f\"original list:{original}\")\n",
    "print(f\"cloned list:{copy}\")\n"
   ]
  },
  {
   "cell_type": "markdown",
   "id": "05c6f8c3",
   "metadata": {},
   "source": [
    "#### 11. Write a Python program to Count occurrences of an element in a list?"
   ]
  },
  {
   "cell_type": "code",
   "execution_count": 55,
   "id": "5abe77c8",
   "metadata": {},
   "outputs": [
    {
     "name": "stdout",
     "output_type": "stream",
     "text": [
      "10\t\t2\n",
      "2\t\t2\n",
      "10\t\t2\n",
      "2\t\t2\n",
      "4\t\t1\n",
      "6\t\t2\n",
      "6\t\t2\n"
     ]
    }
   ],
   "source": [
    "A=[10,2,10,2,4,6,6]\n",
    "for i in A:\n",
    "    print(f\"{i}\\t\\t{A.count(i)}\")"
   ]
  },
  {
   "cell_type": "code",
   "execution_count": null,
   "id": "9c95ec61",
   "metadata": {},
   "outputs": [],
   "source": []
  }
 ],
 "metadata": {
  "kernelspec": {
   "display_name": "Python 3 (ipykernel)",
   "language": "python",
   "name": "python3"
  },
  "language_info": {
   "codemirror_mode": {
    "name": "ipython",
    "version": 3
   },
   "file_extension": ".py",
   "mimetype": "text/x-python",
   "name": "python",
   "nbconvert_exporter": "python",
   "pygments_lexer": "ipython3",
   "version": "3.9.12"
  }
 },
 "nbformat": 4,
 "nbformat_minor": 5
}
